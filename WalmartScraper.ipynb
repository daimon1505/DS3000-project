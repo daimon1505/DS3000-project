{
 "cells": [
  {
   "cell_type": "code",
   "execution_count": 2,
   "id": "78bf08fb-a85b-4901-9ebb-9e03bd58ff03",
   "metadata": {
    "tags": []
   },
   "outputs": [
    {
     "name": "stdout",
     "output_type": "stream",
     "text": [
      "Collecting chromedriver-autoinstaller\n",
      "  Obtaining dependency information for chromedriver-autoinstaller from https://files.pythonhosted.org/packages/b7/17/824a202a4fdb6edda587f25878552beb0da6de70197d5f0b77b8d3781e91/chromedriver_autoinstaller-0.6.2-py3-none-any.whl.metadata\n",
      "  Downloading chromedriver_autoinstaller-0.6.2-py3-none-any.whl.metadata (1.9 kB)\n",
      "Downloading chromedriver_autoinstaller-0.6.2-py3-none-any.whl (7.4 kB)\n",
      "Installing collected packages: chromedriver-autoinstaller\n",
      "Successfully installed chromedriver-autoinstaller-0.6.2\n"
     ]
    }
   ],
   "source": [
    "!pip install chromedriver-autoinstaller"
   ]
  },
  {
   "cell_type": "code",
   "execution_count": 10,
   "id": "050575aa-d7de-4f6e-a271-1bed28cef39b",
   "metadata": {
    "tags": []
   },
   "outputs": [
    {
     "name": "stderr",
     "output_type": "stream",
     "text": [
      "WARNING:root:Can not find chromedriver for currently installed chrome version.\n"
     ]
    }
   ],
   "source": [
    "chromedriver_autoinstaller.install()"
   ]
  },
  {
   "cell_type": "code",
   "execution_count": 57,
   "id": "e824c165-dcc7-458e-9b91-f6f76e5adbe7",
   "metadata": {
    "tags": []
   },
   "outputs": [],
   "source": [
    "import requests\n",
    "import os\n",
    "import random\n",
    "import time\n",
    "import json\n",
    "\n",
    "import pandas as pd\n",
    "import numpy as np\n",
    "\n",
    "from tqdm import tqdm\n",
    "\n",
    "from bs4 import BeautifulSoup\n",
    "\n",
    "from selenium import webdriver\n",
    "from selenium.webdriver.common.by import By\n",
    "from selenium.webdriver.common.action_chains import ActionChains\n",
    "from selenium.webdriver.common.keys import Keys\n",
    "from selenium.webdriver.support.ui import WebDriverWait\n",
    "from selenium.webdriver.support import expected_conditions as EC\n",
    "from selenium.webdriver.support.ui import WebDriverWait\n",
    "from selenium.webdriver.support import expected_conditions as EC\n",
    "from selenium.common.exceptions import TimeoutException\n",
    "\n",
    "import chromedriver_autoinstaller\n",
    "import chromedriver_binary\n",
    "\n"
   ]
  },
  {
   "cell_type": "code",
   "execution_count": 11,
   "id": "39f86026-671e-4d75-9d49-5c74cfc347e2",
   "metadata": {
    "tags": []
   },
   "outputs": [],
   "source": [
    "\n",
    "\n",
    "def open_browser():\n",
    "    \"\"\"\n",
    "    Opens a new automated browser window with all tell-tales of automated browser disabled\n",
    "    \"\"\"\n",
    "    options = webdriver.ChromeOptions()\n",
    "    options.add_argument(\"start-maximized\")\n",
    "    \n",
    "    # remove all signs of this being an automated browser\n",
    "    options.add_argument('--disable-blink-features=AutomationControlled')\n",
    "    options.add_experimental_option(\"excludeSwitches\", [\"enable-automation\"])\n",
    "    options.add_experimental_option('useAutomationExtension', False)\n",
    "\n",
    "    # open the browser with the new options\n",
    "    driver = webdriver.Chrome(options=options)\n",
    "    return driver"
   ]
  },
  {
   "cell_type": "code",
   "execution_count": 12,
   "id": "68e1a36d-1573-45d2-bd33-e1b9f190d4e2",
   "metadata": {
    "tags": []
   },
   "outputs": [],
   "source": [
    "driver = open_browser()"
   ]
  },
  {
   "cell_type": "code",
   "execution_count": 13,
   "id": "f6ff0ec5-789d-41c8-9d5f-79a38771edc7",
   "metadata": {
    "tags": []
   },
   "outputs": [],
   "source": [
    "def load_walmart(driver, attempts = 5):\n",
    "    \n",
    "    for attempt in range(0, attempts):\n",
    "        # load the website\n",
    "        driver.get('https://www.walmart.com')\n",
    "\n",
    "        # make sure we wait with searching until the actual search bar appeared\n",
    "        wait = 10\n",
    "        try:\n",
    "            search_box = WebDriverWait(driver, wait).until(EC.presence_of_element_located((By.CLASS_NAME, 'search-bar')))\n",
    "            # no exception is thrown which means the wait is over and we found the search bar. We can finish this function\n",
    "            return \n",
    "        except:\n",
    "            # Since we're here, the search bar was not found. We just go back to the top of the for loop again\n",
    "            continue"
   ]
  },
  {
   "cell_type": "code",
   "execution_count": 14,
   "id": "a0726f28-77df-4953-aadc-5bc64363521a",
   "metadata": {
    "tags": []
   },
   "outputs": [],
   "source": [
    "load_walmart(driver)"
   ]
  },
  {
   "cell_type": "code",
   "execution_count": 15,
   "id": "9becc356-e31e-4a71-9911-49a4e01af1d8",
   "metadata": {
    "tags": []
   },
   "outputs": [],
   "source": [
    "def search(query, driver):\n",
    "    search_box = driver.find_element(By.CLASS_NAME, 'search-bar')\n",
    "    for i in range(100):\n",
    "        search_box.send_keys(Keys.BACKSPACE)\n",
    "    search_box.send_keys(query + Keys.ENTER)"
   ]
  },
  {
   "cell_type": "code",
   "execution_count": 16,
   "id": "38a04a6f-88d0-4599-870a-4196bd3aee82",
   "metadata": {
    "tags": []
   },
   "outputs": [],
   "source": [
    "def get_suggestions(query):\n",
    "    headers = {\n",
    "        'authority': 'www.walmart.com',\n",
    "        'accept': 'application/json',\n",
    "        'accept-language': 'en-US',\n",
    "        'device_profile_ref_id': 'LqIurHOiqfXM8Htfp_F9D8H7SeOsKpC8j3tj',\n",
    "        'downlink': '10',\n",
    "        'dpr': '2',\n",
    "        'referer': 'https://www.walmart.com/',\n",
    "        'sec-ch-ua': '\"Google Chrome\";v=\"119\", \"Chromium\";v=\"119\", \"Not?A_Brand\";v=\"24\"',\n",
    "        'sec-ch-ua-mobile': '?0',\n",
    "        'sec-ch-ua-platform': '\"macOS\"',\n",
    "        'sec-fetch-dest': 'empty',\n",
    "        'sec-fetch-mode': 'cors',\n",
    "        'sec-fetch-site': 'same-origin',\n",
    "        'traceparent': '00-b0ceab7f1e19f66d6cf2aa398fbd522a-95e65dbeedb13e57-00',\n",
    "        'user-agent': 'Mozilla/5.0 (Macintosh; Intel Mac OS X 10_15_7) AppleWebKit/537.36 (KHTML, like Gecko) Chrome/119.0.0.0 Safari/537.36',\n",
    "        'wm_mp': 'true',\n",
    "        'wm_qos.correlation_id': '7IMIWhZT7hpkZp3fl8paHlrYnJqgGqRXYLcP',\n",
    "        'x-enable-server-timing': '1',\n",
    "        'x-latency-trace': '1',\n",
    "        'x-o-bu': 'WALMART-US',\n",
    "        'x-o-correlation-id': '7IMIWhZT7hpkZp3fl8paHlrYnJqgGqRXYLcP',\n",
    "        'x-o-mart': 'B2C',\n",
    "        'x-o-platform': 'rweb',\n",
    "        'x-o-platform-version': 'us-web-1.104.1-fe2ff4adf0765367f55d20cf86cfa7fcc85ec064-1101',\n",
    "        'x-o-segment': 'oaoh',\n",
    "    }\n",
    "\n",
    "    params = {\n",
    "        'term': query,\n",
    "        'num': '9',\n",
    "    }\n",
    "\n",
    "    response = requests.get('https://www.walmart.com/typeahead/v3/complete', params=params, cookies={}, headers=headers)\n",
    "    response = response.json()\n",
    "    suggestions = response['queries']\n",
    "    processed_suggestions = []\n",
    "    \n",
    "    for suggestion in suggestions:\n",
    "        processed_suggestions.append(suggestion['displayName'])\n",
    "        \n",
    "    return processed_suggestions"
   ]
  },
  {
   "cell_type": "code",
   "execution_count": 17,
   "id": "aedb6102-5c35-4b99-a618-9aa6566f9480",
   "metadata": {
    "tags": []
   },
   "outputs": [
    {
     "name": "stderr",
     "output_type": "stream",
     "text": [
      "100%|██████████| 26/26 [00:06<00:00,  3.98it/s]\n"
     ]
    }
   ],
   "source": [
    "alphabet = 'abcdefghijklmnopqrstuvwxyz'\n",
    "queries = []\n",
    "for letter in tqdm(alphabet):\n",
    "    suggestions = get_suggestions(letter)\n",
    "    queries += suggestions\n"
   ]
  },
  {
   "cell_type": "code",
   "execution_count": 82,
   "id": "bb024827-2d05-4158-9f76-d6dc3407c33e",
   "metadata": {
    "tags": []
   },
   "outputs": [],
   "source": [
    "all_prod = []"
   ]
  },
  {
   "cell_type": "code",
   "execution_count": 83,
   "id": "e7902ec1-d2bd-402a-8194-216774496d07",
   "metadata": {
    "tags": []
   },
   "outputs": [
    {
     "data": {
      "text/plain": [
       "0"
      ]
     },
     "execution_count": 83,
     "metadata": {},
     "output_type": "execute_result"
    }
   ],
   "source": [
    "len(all_prod)"
   ]
  },
  {
   "cell_type": "code",
   "execution_count": 84,
   "id": "37f57119-a763-456a-b652-7eb4eba81e24",
   "metadata": {
    "tags": []
   },
   "outputs": [],
   "source": [
    "selected_queries = queries[50:100]\n",
    "for query in tqdm(selected_queries):\n",
    "    search(query, driver)\n",
    "    time.sleep(5)\n",
    "    soup = BeautifulSoup(driver.page_source)\n",
    "    soup = soup.find(id=\"__next\")\n",
    "    products = soup.find_all('div', attrs={'class': 'mb0 ph1 pa0-xl bb b--near-white w-25'})\n",
    "    i = 1\n",
    "    for product in products:\n",
    "        try:\n",
    "            if product:    \n",
    "                name = product.find('span',attrs={'data-automation-id': 'product-title'}).text\n",
    "                price = product.find('div',attrs={'data-automation-id': 'product-price'}).find('span', attrs={'class':'w_iUH7'}).text\n",
    "                price = price[price.find('$'):]\n",
    "                sponsored = 'Sponsored' in product.text\n",
    "                try:\n",
    "                    product.find('div', attrs={'class': 'flex', 'class':'mt2'}).find('span', attrs={'class':'w_iUH7'}).text\n",
    "                    review_stats = product.find('div', attrs={'class': 'flex', 'class':'mt2'}).find('span', attrs={'class':'w_iUH7'}).text\n",
    "                    stars = float(review_stats[:review_stats.find(' out')])\n",
    "                    review_count = (review_stats[review_stats.find(\"s. \")+3:])\n",
    "                except AttributeError:\n",
    "                    stars = np.nan\n",
    "                    review_count = np.nan\n",
    "\n",
    "\n",
    "                productData = {}\n",
    "                productData['name'] = name\n",
    "                productData['price'] = price\n",
    "                productData['stars'] = stars\n",
    "                productData['reviews'] = review_count\n",
    "                productData['sponsored'] = sponsored\n",
    "                productData['rank'] = i\n",
    "                all_prod.append(productData)\n",
    "                i += 1\n",
    "        except:\n",
    "            continue"
   ]
  },
  {
   "cell_type": "code",
   "execution_count": 85,
   "id": "ddbc7ce3-f11e-42a4-905b-bcb8e977c1c6",
   "metadata": {
    "tags": []
   },
   "outputs": [
    {
     "data": {
      "text/plain": [
       "2069"
      ]
     },
     "execution_count": 85,
     "metadata": {},
     "output_type": "execute_result"
    }
   ],
   "source": [
    "len(all_prod)"
   ]
  },
  {
   "cell_type": "code",
   "execution_count": 89,
   "id": "a42df12f-91f7-46b7-a3b1-23c0c4ce6279",
   "metadata": {
    "tags": []
   },
   "outputs": [],
   "source": [
    "df = pd.DataFrame(all_prod).drop_duplicates(subset=['name', 'price', 'stars', 'reviews'])"
   ]
  },
  {
   "cell_type": "code",
   "execution_count": 90,
   "id": "d72f91c6-12f7-4c9d-bce5-f34e3b0e84ec",
   "metadata": {
    "tags": []
   },
   "outputs": [],
   "source": [
    "df.to_csv('walmartData.csv')  "
   ]
  },
  {
   "cell_type": "code",
   "execution_count": null,
   "id": "b9e238ed-e905-4330-b2e1-30a305cf2b93",
   "metadata": {},
   "outputs": [],
   "source": []
  },
  {
   "cell_type": "code",
   "execution_count": null,
   "id": "087dc73e-9541-4826-9c40-97d1507af702",
   "metadata": {},
   "outputs": [],
   "source": []
  },
  {
   "cell_type": "code",
   "execution_count": null,
   "id": "7ad89350-80e0-46c9-9da4-8a8adcdceb9a",
   "metadata": {},
   "outputs": [],
   "source": []
  }
 ],
 "metadata": {
  "kernelspec": {
   "display_name": "Python 3 (ipykernel)",
   "language": "python",
   "name": "python3"
  },
  "language_info": {
   "codemirror_mode": {
    "name": "ipython",
    "version": 3
   },
   "file_extension": ".py",
   "mimetype": "text/x-python",
   "name": "python",
   "nbconvert_exporter": "python",
   "pygments_lexer": "ipython3",
   "version": "3.11.4"
  }
 },
 "nbformat": 4,
 "nbformat_minor": 5
}
